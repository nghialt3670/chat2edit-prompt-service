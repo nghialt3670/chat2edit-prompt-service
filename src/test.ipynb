{
 "cells": [
  {
   "cell_type": "code",
   "execution_count": 1,
   "metadata": {},
   "outputs": [],
   "source": [
    "import json\n",
    "from core.providers.fabric.fabric_provider import FabricProvider\n",
    "\n",
    "\n",
    "provider = FabricProvider()\n",
    "provider.set_language(\"vi\")\n",
    "provider.load_context_from_buffer(json.dumps({}).encode())"
   ]
  },
  {
   "cell_type": "code",
   "execution_count": 3,
   "metadata": {},
   "outputs": [
    {
     "data": {
      "text/plain": [
       "True"
      ]
     },
     "execution_count": 3,
     "metadata": {},
     "output_type": "execute_result"
    }
   ],
   "source": [
    "from inspect import iscoroutinefunction\n",
    "\n",
    "\n",
    "iscoroutinefunction(provider.segment_image_objects_by_boxes)"
   ]
  }
 ],
 "metadata": {
  "kernelspec": {
   "display_name": "prompt-service",
   "language": "python",
   "name": "python3"
  },
  "language_info": {
   "codemirror_mode": {
    "name": "ipython",
    "version": 3
   },
   "file_extension": ".py",
   "mimetype": "text/x-python",
   "name": "python",
   "nbconvert_exporter": "python",
   "pygments_lexer": "ipython3",
   "version": "3.9.19"
  }
 },
 "nbformat": 4,
 "nbformat_minor": 2
}
